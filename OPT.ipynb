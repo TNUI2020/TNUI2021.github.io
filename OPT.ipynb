{
  "nbformat": 4,
  "nbformat_minor": 0,
  "metadata": {
    "kernel_info": {
      "name": "python3"
    },
    "kernelspec": {
      "name": "python3",
      "language": "python",
      "display_name": "Python 3"
    },
    "language_info": {
      "name": "python",
      "version": "3.6.5",
      "mimetype": "text/x-python",
      "codemirror_mode": {
        "name": "ipython",
        "version": 3
      },
      "pygments_lexer": "ipython3",
      "nbconvert_exporter": "python",
      "file_extension": ".py"
    },
    "nteract": {
      "version": "0.12.3"
    },
    "colab": {
      "name": "OPT.ipynb",
      "provenance": []
    }
  },
  "cells": [
    {
      "cell_type": "markdown",
      "metadata": {
        "id": "Axr7tOCMDWwB"
      },
      "source": [
        "[Open in COLAB](https://colab.research.google.com/github/tnui2021/tnui2021.github.io/blob/main/OPT.ipynb)"
      ]
    },
    {
      "cell_type": "markdown",
      "metadata": {
        "id": "6CpT80PzCYsn"
      },
      "source": [
        "### Recordatori de Python"
      ]
    },
    {
      "cell_type": "markdown",
      "metadata": {
        "id": "4Rnk92WgCYsq"
      },
      "source": [
        "#### Enumerate"
      ]
    },
    {
      "cell_type": "code",
      "metadata": {
        "id": "O86pT-2SCYsr",
        "outputId": "8050a216-324e-4617-9692-b07525134729",
        "colab": {
          "base_uri": "https://localhost:8080/"
        }
      },
      "source": [
        "for a,b in enumerate(['a','b','c']):\n",
        "    print(a,b)"
      ],
      "execution_count": 1,
      "outputs": [
        {
          "output_type": "stream",
          "name": "stdout",
          "text": [
            "0 a\n",
            "1 b\n",
            "2 c\n"
          ]
        }
      ]
    },
    {
      "cell_type": "markdown",
      "metadata": {
        "id": "oob2K5NXCYst"
      },
      "source": [
        "#### zip"
      ]
    },
    {
      "cell_type": "code",
      "metadata": {
        "id": "Q7timHkhCYsu",
        "outputId": "2ee8fd20-f615-465a-caf0-aecaf075223a",
        "colab": {
          "base_uri": "https://localhost:8080/"
        }
      },
      "source": [
        "for i in zip([1,2,3],[3,4,5,6]):\n",
        "    print(i)"
      ],
      "execution_count": 2,
      "outputs": [
        {
          "output_type": "stream",
          "name": "stdout",
          "text": [
            "(1, 3)\n",
            "(2, 4)\n",
            "(3, 5)\n"
          ]
        }
      ]
    },
    {
      "cell_type": "markdown",
      "metadata": {
        "id": "YWqlUlCHCYsu"
      },
      "source": [
        "#### \\*args, \\*kwargs o com definir una funció amb un nombre d'arguments arbitrari."
      ]
    },
    {
      "cell_type": "code",
      "metadata": {
        "id": "Hm6S1qXXCYsu",
        "outputId": "65165439-3eca-4ef9-a890-ed845a5c227d",
        "colab": {
          "base_uri": "https://localhost:8080/"
        }
      },
      "source": [
        "def magic(*args, **kwargs):\n",
        "    print(args)\n",
        "    print(kwargs)\n",
        "    \n",
        "magic(1,2,3, val1='a', val2='b')"
      ],
      "execution_count": 3,
      "outputs": [
        {
          "output_type": "stream",
          "name": "stdout",
          "text": [
            "(1, 2, 3)\n",
            "{'val1': 'a', 'val2': 'b'}\n"
          ]
        }
      ]
    },
    {
      "cell_type": "code",
      "metadata": {
        "id": "ed7RW4hDCYsv",
        "outputId": "71827e31-2f84-4af9-d80a-c39d46fee2ba",
        "colab": {
          "base_uri": "https://localhost:8080/"
        }
      },
      "source": [
        "def magic(*a, **b):\n",
        "    print(a)\n",
        "    print(b)\n",
        "    \n",
        "magic(1,2,3, val1='a', val2='b')"
      ],
      "execution_count": 4,
      "outputs": [
        {
          "output_type": "stream",
          "name": "stdout",
          "text": [
            "(1, 2, 3)\n",
            "{'val1': 'a', 'val2': 'b'}\n"
          ]
        }
      ]
    },
    {
      "cell_type": "markdown",
      "metadata": {
        "id": "0BE_CYkkCYsv"
      },
      "source": [
        "Els operadors prefixes `*` i `**` ens permeten (entre d'altres coses) passar un nombre variable de paràmetres a una funció."
      ]
    },
    {
      "cell_type": "markdown",
      "metadata": {
        "id": "jQBs1z0WCYsw"
      },
      "source": [
        "# Optimització i aprenentatge de dades\n",
        "\n",
        "Què volem dir quan diem que \"aprenem de les dades\"?\n",
        "\n",
        "En general **aprendre de les dades** vol dir inferir (construir de baix cap a dalt, de les dades cap el model) un model que ens permet representar-les de forma compacte i ens permet generalitzar el seu comportament (extrapolar).\n",
        "\n",
        "+ En el primer cas, donat un conjunt de dades $\\{\\mathbf x_i\\}_{i=1,\\dots,n}$, volem construir un funció $f$ tal que $\\mathbf y_i = f(\\mathbf x_i)$ és una representació *compacta* (més simple, de menys dimensions, etc.) de $\\mathbf x_i$. Per exemple: $\\mathbf x_i$ són les paraules que apareixen en un llibre i $f(\\mathbf x_i)$ és un vector numèric de dimensió 200 que el representa de forma adequada. \n",
        "\n",
        "+ En el segon cas, donat un conjunt de dades etiquetades $\\{\\mathbf x_i,y_i\\}_{i=1,\\dots,n}$, volem construir un funció $f$ tal que quan rebem una nova dada $\\mathbf y_j$, no vista anteriorment, càlcul de $\\mathbf y_j = f(\\mathbf x_j)$ és probablement correcte. Per exemple: $\\mathbf x_i$ són les paraules que apareixen en un llibre) i $\\mathbf y_i$ és una variable categòrica (una classe) que representa la seva temàtica (p.e. *novela*). \n",
        "\n",
        "Una gran part dels algorismes que \"aprenen\" de les dades estan basats en la resolució (iterativa) d'un problema matemàtic que inclou el model i les dades. \n",
        "\n",
        "Si existís una solució analítica que derivés la fòrmula de la solució, adopatariem aquesta estratègia, però no és el cas.\n",
        "\n",
        "La forma més comú que prenen les estratègies per \"aprendre\" de les dades és la resolució de problemes de minimització d'una funció. Això rep el nom d'**optimització**.\n",
        "\n",
        "La metodologia crítica per resoldre problemes d'optimització és el **descens del gradient**."
      ]
    },
    {
      "cell_type": "markdown",
      "metadata": {
        "id": "a9oF2Z6SCYsx"
      },
      "source": [
        "### Descens del gradient (per *hackers*)\n",
        "\n",
        "Suposem que tenim una funcio $f$ que té per argument un vector de nombres reals i que té com a sortida un únic nombre real. Per exemple:"
      ]
    },
    {
      "cell_type": "code",
      "metadata": {
        "id": "N-J90TmeCYsx",
        "outputId": "7a1126d4-54cf-4dec-849b-9c45dd94417f",
        "colab": {
          "base_uri": "https://localhost:8080/"
        }
      },
      "source": [
        "def suma_de_quadrats(v):\n",
        "    return sum([v_i ** 2 for v_i in v]) \n",
        "\n",
        "suma_de_quadrats([2,2,2])"
      ],
      "execution_count": 5,
      "outputs": [
        {
          "output_type": "execute_result",
          "data": {
            "text/plain": [
              "12"
            ]
          },
          "metadata": {},
          "execution_count": 5
        }
      ]
    },
    {
      "cell_type": "markdown",
      "metadata": {
        "id": "s7-pUrJ_CYsy"
      },
      "source": [
        "Una versió d'aquesta funció, que s'anomena **funció de cost** i que veurem una mica més endavant, és troba en molts problemes d'aprenentatge. L'objectiu és calcular el **paràmetre** $\\mathbf{v}$ que maximitza o minimitza aquesta funció, o el que és el mateix, la $\\mathbf{v}$ que produeix el valor més alt o més baix possible de $f$. \n",
        "\n",
        "El terme $\\mathbf{v}$, quan fem aprenentatge, sol representar la discrepància entre el valor predit pel model i les dades."
      ]
    },
    {
      "cell_type": "markdown",
      "metadata": {
        "id": "pzquqDCtCYsy"
      },
      "source": [
        "### De les derivades al gradient\n",
        "\n",
        "Si $f$ és una funció d'una sola variable, la derivada a un punt $x$ mesura la variació de la funció quan fem un petit canvi a la $x$, i es defineix com el límit de la diferència de dos quocients: \n",
        "\n",
        "$$ \\lim_{h \\rightarrow 0} \\frac{f(x + h) - f(x)}{h} $$"
      ]
    },
    {
      "cell_type": "code",
      "metadata": {
        "id": "i2rw8dkXCYsy",
        "outputId": "df4d239a-5c62-4154-ced9-47b9e975ee22",
        "colab": {
          "base_uri": "https://localhost:8080/"
        }
      },
      "source": [
        "def quadrat(x):\n",
        "    return x*x\n",
        "\n",
        "def dif_quo(x, f=quadrat, h=1e-6):\n",
        "    return (f(x+h) - f(x))/h\n",
        "\n",
        "dif_quo(3.0, quadrat)"
      ],
      "execution_count": 6,
      "outputs": [
        {
          "output_type": "execute_result",
          "data": {
            "text/plain": [
              "6.000001000927568"
            ]
          },
          "metadata": {},
          "execution_count": 6
        }
      ]
    },
    {
      "cell_type": "markdown",
      "metadata": {
        "id": "sK5-Fl5FCYsy"
      },
      "source": [
        "La derivada es defineix com la pendent de la tangent a $(x,f(x))$, concepte que s'iguala a la diferència de quocients quan la $h$ tendeix a 0, però per altres $h$ la diferència de quocients no deixa de ser una aproximació a la pendent de la tangent a $((x+h), f(x+h))$.  "
      ]
    },
    {
      "cell_type": "code",
      "metadata": {
        "id": "kU22cLJSCYsy",
        "outputId": "baaa9b8d-80b1-4793-9805-c4cda129b0a9",
        "colab": {
          "base_uri": "https://localhost:8080/",
          "height": 391
        }
      },
      "source": [
        "import matplotlib.pyplot as plt\n",
        "import numpy as np\n",
        "%matplotlib inline\n",
        "\n",
        "x = np.linspace(-1.5,-0.5, 100)\n",
        "f = [i**2 for i in x]\n",
        "plt.plot(x,f, 'r-')\n",
        "plt.plot([-1.5, -0.5], [2, 0.0], 'k-', lw=2)\n",
        "plt.plot([-1.4, -1.0], [1.96, 1.0], 'b-', lw=2)\n",
        "plt.plot([-1],[1],'o')\n",
        "plt.plot([-1.4],[1.96],'o')\n",
        "plt.text(-1.0, 1.2, r'$x,f(x)$')\n",
        "plt.text(-1.4, 2.2, r'$(x-h),f(x-h)$')\n",
        "plt.gcf().set_size_inches((12,6))\n",
        "plt.grid()\n",
        "plt.show"
      ],
      "execution_count": 7,
      "outputs": [
        {
          "output_type": "execute_result",
          "data": {
            "text/plain": [
              "<function matplotlib.pyplot.show>"
            ]
          },
          "metadata": {},
          "execution_count": 7
        },
        {
          "output_type": "display_data",
          "data": {
            "image/png": "[encoded data removed]",
            "text/plain": [
              "<Figure size 864x432 with 1 Axes>"
            ]
          },
          "metadata": {
            "needs_background": "light"
          }
        }
      ]
    },
    {
      "cell_type": "markdown",
      "metadata": {
        "id": "rkXGRGSDCYsz"
      },
      "source": [
        "Hi ha moltes funcions de les quals poden calcular la derivada analíticament, com per exemple $x^2$:"
      ]
    },
    {
      "cell_type": "code",
      "metadata": {
        "id": "AI0lXx6ACYsz",
        "outputId": "302eca94-946b-446b-d26e-38fa5fdc29fc",
        "colab": {
          "base_uri": "https://localhost:8080/"
        }
      },
      "source": [
        "def d_a_quadrat(x):\n",
        "    # la derivada de x**2 és 2*x\n",
        "    return 2*x\n",
        "\n",
        "d_a_quadrat(1.0)"
      ],
      "execution_count": 8,
      "outputs": [
        {
          "output_type": "execute_result",
          "data": {
            "text/plain": [
              "2.0"
            ]
          },
          "metadata": {},
          "execution_count": 8
        }
      ]
    },
    {
      "cell_type": "code",
      "metadata": {
        "id": "QT-DOvvHCYsz",
        "outputId": "cc5eeb1c-b494-4889-f947-9890d800e1cb",
        "colab": {
          "base_uri": "https://localhost:8080/",
          "height": 391
        }
      },
      "source": [
        "import matplotlib.pyplot as plt\n",
        "import numpy as np\n",
        "%matplotlib inline\n",
        "\n",
        "font1 = {'family': 'serif',\n",
        "        'color':  'darkred',\n",
        "        'weight': 'normal',\n",
        "        'size': 14,\n",
        "        }\n",
        "\n",
        "font2 = {'family': 'serif',\n",
        "        'color':  'darkgreen',\n",
        "        'weight': 'normal',\n",
        "        'size': 14,\n",
        "        }\n",
        "\n",
        "x = np.linspace(-2,2, 100)\n",
        "f = [i**2 for i in x]\n",
        "df = [2*i for i in x]\n",
        "plt.text(0.2, -0.8, r'$x^2$', fontdict=font1)\n",
        "plt.text(0.6, 2.0, r'$2x$', fontdict=font2)\n",
        "plt.plot(x,f, 'r-')\n",
        "plt.plot(x,df, 'g-')\n",
        "plt.gcf().set_size_inches((12,6))\n",
        "plt.grid()\n",
        "plt.show"
      ],
      "execution_count": 9,
      "outputs": [
        {
          "output_type": "execute_result",
          "data": {
            "text/plain": [
              "<function matplotlib.pyplot.show>"
            ]
          },
          "metadata": {},
          "execution_count": 9
        },
        {
          "output_type": "display_data",
          "data": {
            "image/png": "[encoded data removed]",
            "text/plain": [
              "<Figure size 864x432 with 1 Axes>"
            ]
          },
          "metadata": {
            "needs_background": "light"
          }
        }
      ]
    },
    {
      "cell_type": "markdown",
      "metadata": {
        "id": "SS-_jgAWCYsz"
      },
      "source": [
        "Però que hem de fer quan no tenim una fòrmula analítica per la derivada? Doncs no queda més remei que usar l'aproximació de la diferència de quocients! \n",
        "\n",
        "Si el pas és prou petit no notarem la diferència, tot i que el concepte \"prou petit\" és una mica indefinit: la funció pot variar molt en qualsevol interval i pot requerir una $h$ diferent per zones diferents.\n",
        "\n",
        "> Un problema afegir al càlcul de les diferències finites és com manegar els errors d'arrodoniment, els *overflows* i *underflows* dels càlculs, sobre tot quan fem la divisió per $h$."
      ]
    },
    {
      "cell_type": "code",
      "metadata": {
        "id": "OPkG3w4ACYs0",
        "outputId": "767718e5-9d24-4d15-ecad-50adf63809e6",
        "colab": {
          "base_uri": "https://localhost:8080/",
          "height": 391
        }
      },
      "source": [
        "import matplotlib.pyplot as plt\n",
        "%matplotlib inline\n",
        "\n",
        "x = range(-10,10)\n",
        "plt.plot(x,list(map(dif_quo,x)), 'rx')\n",
        "plt.plot(x,list(map(d_a_quadrat,x)), 'b+')\n",
        "plt.gcf().set_size_inches((12,6))\n",
        "plt.grid()\n",
        "plt.show"
      ],
      "execution_count": 10,
      "outputs": [
        {
          "output_type": "execute_result",
          "data": {
            "text/plain": [
              "<function matplotlib.pyplot.show>"
            ]
          },
          "metadata": {},
          "execution_count": 10
        },
        {
          "output_type": "display_data",
          "data": {
            "image/png": "[encoded data removed]",
            "text/plain": [
              "<Figure size 864x432 with 1 Axes>"
            ]
          },
          "metadata": {
            "needs_background": "light"
          }
        }
      ]
    },
    {
      "cell_type": "markdown",
      "metadata": {
        "id": "TCII1boFCYs0"
      },
      "source": [
        "Quan $f$ és una funció de varies variables, té varies derivades parcials, cada una de les quals indica com varia $f$ quan fem un petit canvi en la variable corresponent. \n",
        "\n",
        "La derivada parcial respecte a una variable es pot calcular considerant només canvis en aquella variable i mantenint la resta constants:"
      ]
    },
    {
      "cell_type": "code",
      "metadata": {
        "id": "NaFPvrLkCYs0"
      },
      "source": [
        "def dif_quo_parcial(v, f, i, h=1e-6):\n",
        "    w = [v_j + (h if j==i else 0) for j, v_j in enumerate(v)]\n",
        "    return (f(w) - f(v))/h"
      ],
      "execution_count": 11,
      "outputs": []
    },
    {
      "cell_type": "markdown",
      "metadata": {
        "id": "U1FRN4_SCYs0"
      },
      "source": [
        "El *gradient* de la funció $f$, que és un vector format per les derivades parcials de la funció, ens dóna la **direcció en la qual la funció creix més ràpidament**. \n",
        "\n",
        "$$\\nabla {f} = (\\frac{\\partial f}{\\partial v_1}, \\dots, \\frac{\\partial f}{\\partial v_n})$$"
      ]
    },
    {
      "cell_type": "code",
      "metadata": {
        "id": "D55MBmaeCYs0",
        "outputId": "b483120e-1f54-4a26-def3-0feb90acecaf",
        "colab": {
          "base_uri": "https://localhost:8080/"
        }
      },
      "source": [
        "def gradient(v, f, h=1e-6):\n",
        "    return[dif_quo_parcial(v,f,i,h) for i,_ in enumerate(v)]\n",
        "\n",
        "def f(v):\n",
        "    return sum(v_i**2 for v_i in v)\n",
        "\n",
        "v = [1,1,1]\n",
        "print(f(v), gradient(v,f))"
      ],
      "execution_count": 12,
      "outputs": [
        {
          "output_type": "stream",
          "name": "stdout",
          "text": [
            "3 [2.0000009999243673, 2.0000009999243673, 2.0000009999243673]\n"
          ]
        }
      ]
    },
    {
      "cell_type": "markdown",
      "metadata": {
        "id": "qho2sFyuCYs1"
      },
      "source": [
        "## Derivades i optimització\n",
        "\n",
        "La forma més simple de trobar el mínim d'uan funció les l'algorisme de Nelder-Mead: http://www.benfrederickson.com/numerical-optimization/\n",
        "\n",
        "Aquest algorisme té com a principal limitació el nombre d'avaluacions que s'han de fer de la funció a cada pas. Com més dimensions té la funció, més avaluacions hem de fer! Això és un limitació molt gran quan fem aprenentatge!\n",
        "\n",
        "Una estratègia alternativa per minimitzar una funció és repetir la següent estratègia:\n",
        "\n",
        "+ Col·locar-se en un punt aleatori (un valor aleatori de $\\mathbf{v}$)\n",
        "+ Calcular el vector gradient.\n",
        "+ Fer un petit pas en la direcció (*contraria*) del vector gradient.\n",
        "\n",
        "La cerca s'acaba quan no el vector gradient és zero: hem trobat un mínim. \n",
        "\n",
        "Si la funció és unimodal (conté un únic mínim), hem trobat una la nostra solució. Sinó, pot ser que estem en un mínim local i que sigui una solució no satisfactòria."
      ]
    },
    {
      "cell_type": "markdown",
      "metadata": {
        "id": "6XdZ-TMVCYs1"
      },
      "source": [
        "La funció que hem avaluat, $f({\\mathbf v}) = v_1^2+v_2^2+v_3^2$, val $3$ al punt $(1,1,1)$ i el seu vector gradient en aquest punt és $(2,2,2)$. "
      ]
    },
    {
      "cell_type": "markdown",
      "metadata": {
        "id": "DmznDOz5CYs1"
      },
      "source": [
        "> És important observar que aquesta forma de calcular el gradient és també computacionalment costosa: si $\\mathbf{v}$ té longitud $n$, hem d'avaluar $f$ a $2n$ punts."
      ]
    },
    {
      "cell_type": "markdown",
      "metadata": {
        "id": "D9Zr92uDCYs1"
      },
      "source": [
        "### Com utilitzar el gradient\n",
        "\n",
        "És fàcil veure que la funció \"suma de quadrats\", $\\sum_i v_i^2$, pren el seu mínim valor quan totes les $v$ són 0. \n",
        "\n",
        "Anem a comprovar-ho pel cas de dimensió 3. Per fer-ho, encara ens cal una funció que ens mogui en la direcció contrària del gradient, que anomenarem ``pas``: "
      ]
    },
    {
      "cell_type": "code",
      "metadata": {
        "collapsed": true,
        "id": "LEWmVBBgCYs1"
      },
      "source": [
        "def pas(v,grad,mida_pas):\n",
        "    return [v_i + mida_pas * dir_i for v_i, dir_i in zip(v,grad)]\n",
        "\n",
        "def gradient_suma_quadrats(v):\n",
        "    return [2 * v_i for v_i in v]"
      ],
      "execution_count": 13,
      "outputs": []
    },
    {
      "cell_type": "markdown",
      "metadata": {
        "id": "LwcQmN8OCYs1"
      },
      "source": [
        "Començarem escollint un valor a l'atzar i llavors anirem movent-nos en la direcció contrària al gradient. Ens aturarem quan el canvi en el valor de la funcio sigui prou petit."
      ]
    },
    {
      "cell_type": "code",
      "metadata": {
        "id": "BKDjr2KYCYs1",
        "outputId": "aab1bc94-1ae7-46e2-f046-0083829eafd3",
        "colab": {
          "base_uri": "https://localhost:8080/"
        }
      },
      "source": [
        "import random\n",
        "import numpy as np\n",
        "\n",
        "def distancia(v1,v2):\n",
        "    import numpy as np\n",
        "    import math\n",
        "    v = np.array(v1)-np.array(v2)\n",
        "    return math.sqrt(sum(v_i ** 2 for v_i in v))\n",
        "\n",
        "v = [random.randint(-10,10) for i in range(3)]\n",
        "v"
      ],
      "execution_count": 14,
      "outputs": [
        {
          "output_type": "execute_result",
          "data": {
            "text/plain": [
              "[-6, 4, -9]"
            ]
          },
          "metadata": {},
          "execution_count": 14
        }
      ]
    },
    {
      "cell_type": "code",
      "metadata": {
        "id": "0d2tBe7pCYs1",
        "outputId": "792d6a25-bbba-4c73-8800-47866bdb7168",
        "colab": {
          "base_uri": "https://localhost:8080/"
        }
      },
      "source": [
        "tolerancia = 1e-15\n",
        "while True:\n",
        "    gradient = gradient_suma_quadrats(v)\n",
        "    next_v = pas(v,gradient,-0.01)\n",
        "    if distancia(next_v,v) < tolerancia:\n",
        "        break\n",
        "    v = next_v\n",
        "print(v)\n"
      ],
      "execution_count": 15,
      "outputs": [
        {
          "output_type": "stream",
          "name": "stdout",
          "text": [
            "[-2.5495482460083743e-14, 1.699698830672249e-14, -3.824322369012563e-14]\n"
          ]
        }
      ]
    },
    {
      "cell_type": "markdown",
      "metadata": {
        "id": "lHoOafXVCYs2"
      },
      "source": [
        "### El pas\n",
        "\n",
        "La **mida del pas** és un aspecte delicat: si és massa petita avançarem massa lentament; si és massa gran, podem perdre el màxim (mínim) ques estem buscant. \n",
        "\n",
        "Per tant, a l'hora de triar la mida del pas hem de considerar quina política seguir:\n",
        "\n",
        "+ Fer servir una mida de pas constant. En aquest cas la mida del pas defineix la precisió de la solució.\n",
        "+ Anar disminuint la mida del pas a mesura que passa el temps.\n",
        "+ A cada pas, cercar la mida que minimitza el valor de funció objectiu.\n",
        "\n",
        "La darrera opció és bona però molt cara. El màxim que podriem fer és considerar un conjunt fix de mides."
      ]
    },
    {
      "cell_type": "code",
      "metadata": {
        "collapsed": true,
        "id": "FQ-pt0qRCYs2"
      },
      "source": [
        "mides_pas = [100, 10, 1, 0.1, 0.01, 0.001, 0.0001, 0.00001]"
      ],
      "execution_count": 16,
      "outputs": []
    },
    {
      "cell_type": "markdown",
      "metadata": {
        "id": "eytL1hQfCYs2"
      },
      "source": [
        "Sempre hem de tenir en compte que per alguns passos podem tenir una entrada no vàlida per la funció. Per això crearem una funció que ho manegarà:"
      ]
    },
    {
      "cell_type": "code",
      "metadata": {
        "collapsed": true,
        "id": "reMg6TTHCYs2"
      },
      "source": [
        "def safe(f):\n",
        "    def safe_f(*args, **kwargs):\n",
        "        try:\n",
        "            return f(*args, **kwargs)\n",
        "        except: \n",
        "            return float('inf')\n",
        "    return safe_f"
      ],
      "execution_count": 17,
      "outputs": []
    },
    {
      "cell_type": "markdown",
      "metadata": {
        "id": "BCvscLIaCYs2"
      },
      "source": [
        "### Plantejament general d'un problema d'aprenentatge\n",
        "\n",
        "En general, tenim els següents elements:\n",
        "\n",
        "+ Un conjunt de dades $(x,y)$. \n",
        "+ Una funció objectiu *target_f*, que volem minimitzar, que representa la discrepància entre les dades i un model.\n",
        "+ La funció que representa el gradient de la funció objectiu, *gradient_f*. \n",
        "\n",
        "\n",
        "El cas més normal és que *target_f*  representi els errors d'un model $M$ de representació de les dades $(x_i, y_i)$, en funció dels seus paràmetres $\\theta$, i volem trobar els paràmetres que minimitzen l'error:\n",
        "\n",
        "$$ f = \\sum_{i} (y_i - M(x_i,\\theta))^2 $$\n",
        "\n",
        "Per exemple, $(x,y)$ pot representar:\n",
        "\n",
        "+ $x$: el comportament d'un jugador de \"Candy Crush\"; $y$: les compres mensuals que fa de \"vides\". \n",
        "+ $x$: les dades de funcionament del motor d'un cotxe; $y$: la probabilitat d'un error de funcionament del motor.\n",
        "+ $x$: les dades financeres d'un client d'un banc; $y$: la seva qualificació (si/no) per un préstec.\n",
        "\n",
        "> El cas que $y$ és un valor real, el problema s'anomena *regressió*.\n",
        "\n",
        "> El cas que $y$ és un valor binari o categòric, el problema s'anomena *classificació*. \n",
        "\n",
        "Llavors els descens del gradient es pot implementar així:"
      ]
    },
    {
      "cell_type": "code",
      "metadata": {
        "collapsed": true,
        "id": "gC1pUUt1CYs2"
      },
      "source": [
        "# Les dades de la funció y = 2x serien del tipus:\n",
        "x = [1,2,3,4]\n",
        "y = [2,4,6,8]\n",
        "\n",
        "def minimitza_batch(target_f, gradient_f, x, y, theta_inicial, toler = 1e-6):\n",
        "    \n",
        "    mides_pas = [100, 10, 1, 0.1, 0.01, 0.001, 0.0001, 0.00001]\n",
        "    theta = theta_inicial\n",
        "    target_f = safe(target_f)\n",
        "    valor = target_f(x,y,theta)\n",
        "    \n",
        "    while True:\n",
        "        gradient = gradient_f(theta)\n",
        "        next_thetas = [pas(theta, gradient, -pas) for mida_pas in mides_pas]\n",
        "        next_theta = min(next_thetas, key = target_f)\n",
        "        next_valor = target_f(x,y,next_theta)\n",
        "        if abs(valor - next_valor) < toler:\n",
        "            return theta\n",
        "        else:\n",
        "            theta, valor = next_theta, next_valor"
      ],
      "execution_count": 18,
      "outputs": []
    },
    {
      "cell_type": "markdown",
      "metadata": {
        "id": "wc7qEcXOCYs2"
      },
      "source": [
        "Aquesta funció avalua a cada pas la funció sencera, és a dir, necessita totes les dades $(x_i,y_i)$. \n",
        "\n",
        "**Si el volum de dades és molt gran aquesta estratègia no és viable**. En aquests casos usarem una tècnica coneguda com a SGD (*Stochastic Gradient Descend*)."
      ]
    },
    {
      "cell_type": "markdown",
      "metadata": {
        "id": "Q_9M4i8bCYs3"
      },
      "source": [
        "### Stochastic Gradient Descend\n",
        "\n",
        "En la majoria de casos la funció d'error que estem avaluant és de tipus additiu: es construeix a partir de la suma dels errors de cada una de les dades respecte del model.\n",
        "\n",
        "En aquest cas podem usar la tècnica Stochastic Gradient Descend (SGD), que consisteix en calcular el gradient (i fer un pas en la direcció del mínim) a partir de l'estimació d'**una única dada** (o d'un conjunt petit de dades). \n",
        "\n",
        "En aquest exemple farem servir un pas adaptatiu: si no observem millora en el valor de la funció anem fent petit el pas.\n",
        "\n",
        "Durant cada cicle, iterarem sobre les dades en ordre aleatori:"
      ]
    },
    {
      "cell_type": "code",
      "metadata": {
        "collapsed": true,
        "id": "bZC3H6icCYs3"
      },
      "source": [
        "x = [1,2,3,4]\n",
        "y = [2,4,6,8]\n",
        "dades = list(zip(x,y))\n",
        "\n",
        "def in_random_order(dades):\n",
        "    import random\n",
        "    indexes = [i for i,_ in enumerate(dades)]\n",
        "    random.shuffle(indexes)\n",
        "    for i in indexes:\n",
        "        yield dades[i]"
      ],
      "execution_count": 19,
      "outputs": []
    },
    {
      "cell_type": "code",
      "metadata": {
        "id": "F87e12CNCYs3",
        "outputId": "fb665173-ee21-4b1d-88c6-4629f4c72a36",
        "colab": {
          "base_uri": "https://localhost:8080/"
        }
      },
      "source": [
        "for (x_i,y_i) in in_random_order(dades):\n",
        "    print(x_i,y_i) "
      ],
      "execution_count": 20,
      "outputs": [
        {
          "output_type": "stream",
          "name": "stdout",
          "text": [
            "2 4\n",
            "3 6\n",
            "4 8\n",
            "1 2\n"
          ]
        }
      ]
    },
    {
      "cell_type": "code",
      "metadata": {
        "collapsed": true,
        "id": "Uy-_yVH-CYs3"
      },
      "source": [
        "def vector_subtract(v,w):\n",
        "    return [v_i - w_i for v_i, w_i in zip(v,w)]\n",
        "\n",
        "def scalar_multiply(c,v):\n",
        "    return [c * v_i for v_i in v]\n",
        "\n",
        "def SGD(target_f, gradient_f, x, y, theta_0, alpha_0=0.01):\n",
        "    dades = zip(x,y)\n",
        "    theta = theta_0\n",
        "    alpha = alpha_0\n",
        "    min_theta, min_valor = float('inf'), float('inf')\n",
        "    iteracions_sense_millora = 0\n",
        "    while iteracions_sense_millora < 100:\n",
        "        valor = sum(target_f(x_i, y_i, theta) for x_i,y_i in dades)\n",
        "        if valor < min_valor:\n",
        "            min_theta, min_valor = theta, valor\n",
        "            iteracions_sense_millora = 0\n",
        "            alpha = alpha_0\n",
        "        else:\n",
        "            iteracions_sense_millora += 1\n",
        "            alpha *= 0.9\n",
        "        for x_i, y_i in in_random_order(dades):\n",
        "            gradient_i = gradient_f(x_i, y_i, theta)\n",
        "            theta = vector_subtract(theta, scalar_multiply(alpha, gradient_i))\n",
        "    return min_theta"
      ],
      "execution_count": 21,
      "outputs": []
    },
    {
      "cell_type": "markdown",
      "metadata": {
        "id": "Vj_mmWifCYs3"
      },
      "source": [
        "## Gradient Descent i Regressió Lineal\n",
        "\n"
      ]
    },
    {
      "cell_type": "markdown",
      "metadata": {
        "collapsed": true,
        "id": "nDfrDerECYs3"
      },
      "source": [
        "El model de regressió lineal assumeix una relació entre les dades i el model d'quest tipus:\n",
        "\n",
        "$$ y_i = \\beta x_i + \\alpha $$"
      ]
    },
    {
      "cell_type": "code",
      "metadata": {
        "collapsed": true,
        "id": "yLA_nkFRCYs3"
      },
      "source": [
        "import numpy as np\n",
        "x = np.random.uniform(0,1,20)\n",
        "\n",
        "def f(x): return x*2\n",
        "\n",
        "noise_variance =0.2\n",
        "noise = np.random.randn(x.shape[0])*noise_variance\n",
        "y = f(x) + noise"
      ],
      "execution_count": 29,
      "outputs": []
    },
    {
      "cell_type": "code",
      "metadata": {
        "id": "GHHdEE0NCYs4",
        "outputId": "2bb7a6d9-f95e-43ab-adb6-14c3a7d172fb",
        "colab": {
          "base_uri": "https://localhost:8080/",
          "height": 409
        }
      },
      "source": [
        "plt.plot(x, y, 'o', label='y')\n",
        "plt.plot([0, 1], [f(0), f(1)], 'b-', label='f(x)')\n",
        "plt.xlabel('$x$', fontsize=15)\n",
        "plt.ylabel('$t$', fontsize=15)\n",
        "plt.ylim([0,2])\n",
        "plt.title('inputs (x) vs targets (y)')\n",
        "plt.grid()\n",
        "plt.legend(loc=2)\n",
        "plt.gcf().set_size_inches((12,6))\n",
        "plt.show()"
      ],
      "execution_count": 30,
      "outputs": [
        {
          "output_type": "display_data",
          "data": {
            "image/png": "[encoded data removed]",
            "text/plain": [
              "<Figure size 864x432 with 1 Axes>"
            ]
          },
          "metadata": {
            "needs_background": "light"
          }
        }
      ]
    },
    {
      "cell_type": "code",
      "metadata": {
        "id": "IrGZH3weCYs4",
        "outputId": "b03f2dde-0199-4f66-bb1a-d50f56f2283e",
        "colab": {
          "base_uri": "https://localhost:8080/",
          "height": 409
        }
      },
      "source": [
        "# El nostre model y = x * w\n",
        "def nn(x, w): return x * w\n",
        "\n",
        "# Definim la funció de cost\n",
        "def cost(y, t): return ((t - y)**2).sum()\n",
        "\n",
        "# Definim un vector de possibles valors d'aquesta funció \n",
        "ws = np.linspace(0, 4, num=100)  \n",
        "cost_ws = np.vectorize(lambda w: cost(nn(x, w) , y))(ws)  \n",
        "\n",
        "# Plot\n",
        "plt.plot(ws, cost_ws, 'r-')\n",
        "plt.xlabel('$w$', fontsize=15)\n",
        "plt.ylabel('Cost', fontsize=15)\n",
        "plt.title('cost vs. pesos')\n",
        "plt.grid()\n",
        "plt.gcf().set_size_inches((12,6))\n",
        "plt.show()"
      ],
      "execution_count": 31,
      "outputs": [
        {
          "output_type": "display_data",
          "data": {
            "image/png": "[encoded data removed]",
            "text/plain": [
              "<Figure size 864x432 with 1 Axes>"
            ]
          },
          "metadata": {
            "needs_background": "light"
          }
        }
      ]
    },
    {
      "cell_type": "code",
      "metadata": {
        "id": "sz4rko8wCYs4",
        "outputId": "1874c9b2-7bf8-41f5-fdfd-33ceb6f6236a",
        "colab": {
          "base_uri": "https://localhost:8080/"
        }
      },
      "source": [
        "def gradient(w, x, y): \n",
        "    return 2 * x * (nn(x, w) - y)\n",
        "\n",
        "# definim un pas\n",
        "def delta_w(w_k, x, y, learning_rate):\n",
        "    return learning_rate * gradient(w_k, x, y).sum()\n",
        "\n",
        "# valor inicial del paràmetre\n",
        "w = 0.1\n",
        "\n",
        "#learning_rate = 0.1\n",
        "learning_rate = 0.02\n",
        "#learning_rate = 0.001\n",
        "\n",
        "\n",
        "nb_of_iterations = 15  \n",
        "w_cost = [(w, cost(nn(x, w), y))] \n",
        "for i in range(nb_of_iterations):\n",
        "    dw = delta_w(w, x, y, learning_rate)  \n",
        "    w = w - dw  \n",
        "    w_cost.append((w, cost(nn(x, w), y)))  \n",
        "\n",
        "for i in range(0, len(w_cost)):\n",
        "    print('w({}): {:.4f} \\t cost: {:.4f}'.format(i, w_cost[i][0], w_cost[i][1]))"
      ],
      "execution_count": 32,
      "outputs": [
        {
          "output_type": "stream",
          "name": "stdout",
          "text": [
            "w(0): 0.1000 \t cost: 19.1069\n",
            "w(1): 0.4895 \t cost: 12.3092\n",
            "w(2): 0.7980 \t cost: 8.0468\n",
            "w(3): 1.0423 \t cost: 5.3741\n",
            "w(4): 1.2357 \t cost: 3.6983\n",
            "w(5): 1.3888 \t cost: 2.6475\n",
            "w(6): 1.5101 \t cost: 1.9885\n",
            "w(7): 1.6062 \t cost: 1.5754\n",
            "w(8): 1.6822 \t cost: 1.3163\n",
            "w(9): 1.7424 \t cost: 1.1539\n",
            "w(10): 1.7901 \t cost: 1.0520\n",
            "w(11): 1.8279 \t cost: 0.9882\n",
            "w(12): 1.8578 \t cost: 0.9481\n",
            "w(13): 1.8815 \t cost: 0.9230\n",
            "w(14): 1.9002 \t cost: 0.9072\n",
            "w(15): 1.9150 \t cost: 0.8974\n"
          ]
        }
      ]
    },
    {
      "cell_type": "code",
      "metadata": {
        "id": "9aOHwDBECYs4",
        "outputId": "ac713229-ed51-4884-914c-718fe42cfc4c",
        "colab": {
          "base_uri": "https://localhost:8080/",
          "height": 409
        }
      },
      "source": [
        "# Plot the first 2 gradient descent updates\n",
        "plt.plot(ws, cost_ws, 'r-')  # Plot the error curve\n",
        "# Plot the updates\n",
        "for i in range(1, len(w_cost)-2):\n",
        "    w1, c1 = w_cost[i-1]\n",
        "    w2, c2 = w_cost[i]\n",
        "    plt.plot(w1, c1, 'bo')\n",
        "    plt.plot([w1, w2],[c1, c2], 'b-')\n",
        "    plt.text(w1, c1+0.5, '$w({})$'.format(i)) \n",
        "# Plot the last weight, axis, and show figure\n",
        "w1, c1 = w_cost[len(w_cost)-3]\n",
        "plt.plot(w1, c1, 'bo')\n",
        "plt.text(w1, c1+0.5, '$w({})$'.format(nb_of_iterations))  \n",
        "plt.xlabel('$w$', fontsize=15)\n",
        "plt.ylabel('$\\\\xi$', fontsize=15)\n",
        "plt.title('Gradient descent updates plotted on cost function')\n",
        "plt.grid()\n",
        "plt.gcf().set_size_inches((12,6))\n",
        "plt.show()"
      ],
      "execution_count": 33,
      "outputs": [
        {
          "output_type": "display_data",
          "data": {
            "image/png": "[encoded data removed]",
            "text/plain": [
              "<Figure size 864x432 with 1 Axes>"
            ]
          },
          "metadata": {
            "needs_background": "light"
          }
        }
      ]
    },
    {
      "cell_type": "code",
      "metadata": {
        "id": "Jb77P0lWCYs4",
        "outputId": "0d1e7377-54ec-45b8-e281-b9740b8959eb",
        "colab": {
          "base_uri": "https://localhost:8080/",
          "height": 404
        }
      },
      "source": [
        "w = 0\n",
        "nb_of_iterations = 10  \n",
        "for i in range(nb_of_iterations):\n",
        "    dw = delta_w(w, x, y, learning_rate)  \n",
        "    w = w - dw  \n",
        "    \n",
        "\n",
        "plt.plot(x, y, 'o', label='t')\n",
        "plt.plot([0, 1], [f(0), f(1)], 'b-', label='f(x)')\n",
        "plt.plot([0, 1], [0*w, 1*w], 'r-', label='fitted line')\n",
        "plt.xlabel('input x')\n",
        "plt.ylabel('target t')\n",
        "plt.ylim([0,2])\n",
        "plt.title('input vs. target')\n",
        "plt.grid()\n",
        "plt.legend(loc=2)\n",
        "plt.gcf().set_size_inches((12,6))\n",
        "plt.show()"
      ],
      "execution_count": 34,
      "outputs": [
        {
          "output_type": "display_data",
          "data": {
            "image/png": "[encoded data removed]",
            "text/plain": [
              "<Figure size 864x432 with 1 Axes>"
            ]
          },
          "metadata": {
            "needs_background": "light"
          }
        }
      ]
    },
    {
      "cell_type": "markdown",
      "metadata": {
        "id": "6TYRRvzECYs4"
      },
      "source": [
        "**Exemple**: Climate Change and Sea Ice Extent\n",
        "\n",
        "> Sea ice area refers to the total area covered by ice, whereas sea ice extent is the area of ocean with at least 15% sea ice, while the volume is the total amount of ice in the Arctic.\n",
        "\n",
        "> Reliable measurement of sea ice edges began with the satellite era in the late 1970s. Before this time, sea ice area and extent were monitored less precisely by a combination of ships, buoys and aircraft. The data show a long-term negative trend in recent years, attributed to global warming, although there is also a considerable amount of variation from year to year. Some of this variation may be related to effects such as the arctic oscillation, which may itself be related to global warming and some of the variation is essentially random \"weather noise\".\n",
        "\n",
        "> *Source: Wikipedia*\n",
        "\n",
        "In order to check if there is an anomaly in the evolution of sea ice extent during the last years, we can perform the following processing steps:\n",
        "\n",
        "+ We must read and clean the data from <code>'SeaIce.txt'</code>. This is a ``Tab`` separated file. \n",
        "    + Year:\t4-digit year\n",
        "    + mo:\t1- or 2-digit month\n",
        "    + data_type:\tInput data set (Goddard/NRTSI-G)\n",
        "    + region:\tHemisphere that this data covers (N: Northern; S: Southern)\n",
        "    + extent:\tSea ice extent in millions of square km\n",
        "    + area:\tSea ice area in millions of square km\n",
        "\n",
        "+ To compute the anomaly for a given interval of time (month), we can compute the mean for that interval of time (using the period 1981 through 2010 for the mean extend) and we subtract it from the mean extend for that interval. This value must be converted to percent difference by dividing it by the 1981-2010 average and then multiplying by 100.\n",
        "\n",
        "+ This values can be plotted for the entire time series. \n",
        "+ We can also compute the trend as a simple linear regression.\n",
        "\n"
      ]
    },
    {
      "cell_type": "code",
      "metadata": {
        "id": "0l7yV_hrCYs4",
        "outputId": "11724d43-45a3-4f5d-af9f-c11f02c20b91",
        "colab": {
          "base_uri": "https://localhost:8080/",
          "height": 405
        }
      },
      "source": [
        "import pandas as pd\n",
        "ice = pd.read_csv('SeaIce.txt',delim_whitespace=True)\n",
        "ice.shape"
      ],
      "execution_count": 28,
      "outputs": [
        {
          "output_type": "error",
          "ename": "FileNotFoundError",
          "evalue": "ignored",
          "traceback": [
            "\u001b[0;31m---------------------------------------------------------------------------\u001b[0m",
            "\u001b[0;31mFileNotFoundError\u001b[0m                         Traceback (most recent call last)",
            "\u001b[0;32m<ipython-input-28-74d86e0f3a8f>\u001b[0m in \u001b[0;36m<module>\u001b[0;34m()\u001b[0m\n\u001b[1;32m      1\u001b[0m \u001b[0;32mimport\u001b[0m \u001b[0mpandas\u001b[0m \u001b[0;32mas\u001b[0m \u001b[0mpd\u001b[0m\u001b[0;34m\u001b[0m\u001b[0;34m\u001b[0m\u001b[0m\n\u001b[0;32m----> 2\u001b[0;31m \u001b[0mice\u001b[0m \u001b[0;34m=\u001b[0m \u001b[0mpd\u001b[0m\u001b[0;34m.\u001b[0m\u001b[0mread_csv\u001b[0m\u001b[0;34m(\u001b[0m\u001b[0;34m'SeaIce.txt'\u001b[0m\u001b[0;34m,\u001b[0m\u001b[0mdelim_whitespace\u001b[0m\u001b[0;34m=\u001b[0m\u001b[0;32mTrue\u001b[0m\u001b[0;34m)\u001b[0m\u001b[0;34m\u001b[0m\u001b[0;34m\u001b[0m\u001b[0m\n\u001b[0m\u001b[1;32m      3\u001b[0m \u001b[0mice\u001b[0m\u001b[0;34m.\u001b[0m\u001b[0mshape\u001b[0m\u001b[0;34m\u001b[0m\u001b[0;34m\u001b[0m\u001b[0m\n",
            "\u001b[0;32m/usr/local/lib/python3.7/dist-packages/pandas/io/parsers.py\u001b[0m in \u001b[0;36mread_csv\u001b[0;34m(filepath_or_buffer, sep, delimiter, header, names, index_col, usecols, squeeze, prefix, mangle_dupe_cols, dtype, engine, converters, true_values, false_values, skipinitialspace, skiprows, skipfooter, nrows, na_values, keep_default_na, na_filter, verbose, skip_blank_lines, parse_dates, infer_datetime_format, keep_date_col, date_parser, dayfirst, cache_dates, iterator, chunksize, compression, thousands, decimal, lineterminator, quotechar, quoting, doublequote, escapechar, comment, encoding, dialect, error_bad_lines, warn_bad_lines, delim_whitespace, low_memory, memory_map, float_precision)\u001b[0m\n\u001b[1;32m    686\u001b[0m     )\n\u001b[1;32m    687\u001b[0m \u001b[0;34m\u001b[0m\u001b[0m\n\u001b[0;32m--> 688\u001b[0;31m     \u001b[0;32mreturn\u001b[0m \u001b[0m_read\u001b[0m\u001b[0;34m(\u001b[0m\u001b[0mfilepath_or_buffer\u001b[0m\u001b[0;34m,\u001b[0m \u001b[0mkwds\u001b[0m\u001b[0;34m)\u001b[0m\u001b[0;34m\u001b[0m\u001b[0;34m\u001b[0m\u001b[0m\n\u001b[0m\u001b[1;32m    689\u001b[0m \u001b[0;34m\u001b[0m\u001b[0m\n\u001b[1;32m    690\u001b[0m \u001b[0;34m\u001b[0m\u001b[0m\n",
            "\u001b[0;32m/usr/local/lib/python3.7/dist-packages/pandas/io/parsers.py\u001b[0m in \u001b[0;36m_read\u001b[0;34m(filepath_or_buffer, kwds)\u001b[0m\n\u001b[1;32m    452\u001b[0m \u001b[0;34m\u001b[0m\u001b[0m\n\u001b[1;32m    453\u001b[0m     \u001b[0;31m# Create the parser.\u001b[0m\u001b[0;34m\u001b[0m\u001b[0;34m\u001b[0m\u001b[0;34m\u001b[0m\u001b[0m\n\u001b[0;32m--> 454\u001b[0;31m     \u001b[0mparser\u001b[0m \u001b[0;34m=\u001b[0m \u001b[0mTextFileReader\u001b[0m\u001b[0;34m(\u001b[0m\u001b[0mfp_or_buf\u001b[0m\u001b[0;34m,\u001b[0m \u001b[0;34m**\u001b[0m\u001b[0mkwds\u001b[0m\u001b[0;34m)\u001b[0m\u001b[0;34m\u001b[0m\u001b[0;34m\u001b[0m\u001b[0m\n\u001b[0m\u001b[1;32m    455\u001b[0m \u001b[0;34m\u001b[0m\u001b[0m\n\u001b[1;32m    456\u001b[0m     \u001b[0;32mif\u001b[0m \u001b[0mchunksize\u001b[0m \u001b[0;32mor\u001b[0m \u001b[0miterator\u001b[0m\u001b[0;34m:\u001b[0m\u001b[0;34m\u001b[0m\u001b[0;34m\u001b[0m\u001b[0m\n",
            "\u001b[0;32m/usr/local/lib/python3.7/dist-packages/pandas/io/parsers.py\u001b[0m in \u001b[0;36m__init__\u001b[0;34m(self, f, engine, **kwds)\u001b[0m\n\u001b[1;32m    946\u001b[0m             \u001b[0mself\u001b[0m\u001b[0;34m.\u001b[0m\u001b[0moptions\u001b[0m\u001b[0;34m[\u001b[0m\u001b[0;34m\"has_index_names\"\u001b[0m\u001b[0;34m]\u001b[0m \u001b[0;34m=\u001b[0m \u001b[0mkwds\u001b[0m\u001b[0;34m[\u001b[0m\u001b[0;34m\"has_index_names\"\u001b[0m\u001b[0;34m]\u001b[0m\u001b[0;34m\u001b[0m\u001b[0;34m\u001b[0m\u001b[0m\n\u001b[1;32m    947\u001b[0m \u001b[0;34m\u001b[0m\u001b[0m\n\u001b[0;32m--> 948\u001b[0;31m         \u001b[0mself\u001b[0m\u001b[0;34m.\u001b[0m\u001b[0m_make_engine\u001b[0m\u001b[0;34m(\u001b[0m\u001b[0mself\u001b[0m\u001b[0;34m.\u001b[0m\u001b[0mengine\u001b[0m\u001b[0;34m)\u001b[0m\u001b[0;34m\u001b[0m\u001b[0;34m\u001b[0m\u001b[0m\n\u001b[0m\u001b[1;32m    949\u001b[0m \u001b[0;34m\u001b[0m\u001b[0m\n\u001b[1;32m    950\u001b[0m     \u001b[0;32mdef\u001b[0m \u001b[0mclose\u001b[0m\u001b[0;34m(\u001b[0m\u001b[0mself\u001b[0m\u001b[0;34m)\u001b[0m\u001b[0;34m:\u001b[0m\u001b[0;34m\u001b[0m\u001b[0;34m\u001b[0m\u001b[0m\n",
            "\u001b[0;32m/usr/local/lib/python3.7/dist-packages/pandas/io/parsers.py\u001b[0m in \u001b[0;36m_make_engine\u001b[0;34m(self, engine)\u001b[0m\n\u001b[1;32m   1178\u001b[0m     \u001b[0;32mdef\u001b[0m \u001b[0m_make_engine\u001b[0m\u001b[0;34m(\u001b[0m\u001b[0mself\u001b[0m\u001b[0;34m,\u001b[0m \u001b[0mengine\u001b[0m\u001b[0;34m=\u001b[0m\u001b[0;34m\"c\"\u001b[0m\u001b[0;34m)\u001b[0m\u001b[0;34m:\u001b[0m\u001b[0;34m\u001b[0m\u001b[0;34m\u001b[0m\u001b[0m\n\u001b[1;32m   1179\u001b[0m         \u001b[0;32mif\u001b[0m \u001b[0mengine\u001b[0m \u001b[0;34m==\u001b[0m \u001b[0;34m\"c\"\u001b[0m\u001b[0;34m:\u001b[0m\u001b[0;34m\u001b[0m\u001b[0;34m\u001b[0m\u001b[0m\n\u001b[0;32m-> 1180\u001b[0;31m             \u001b[0mself\u001b[0m\u001b[0;34m.\u001b[0m\u001b[0m_engine\u001b[0m \u001b[0;34m=\u001b[0m \u001b[0mCParserWrapper\u001b[0m\u001b[0;34m(\u001b[0m\u001b[0mself\u001b[0m\u001b[0;34m.\u001b[0m\u001b[0mf\u001b[0m\u001b[0;34m,\u001b[0m \u001b[0;34m**\u001b[0m\u001b[0mself\u001b[0m\u001b[0;34m.\u001b[0m\u001b[0moptions\u001b[0m\u001b[0;34m)\u001b[0m\u001b[0;34m\u001b[0m\u001b[0;34m\u001b[0m\u001b[0m\n\u001b[0m\u001b[1;32m   1181\u001b[0m         \u001b[0;32melse\u001b[0m\u001b[0;34m:\u001b[0m\u001b[0;34m\u001b[0m\u001b[0;34m\u001b[0m\u001b[0m\n\u001b[1;32m   1182\u001b[0m             \u001b[0;32mif\u001b[0m \u001b[0mengine\u001b[0m \u001b[0;34m==\u001b[0m \u001b[0;34m\"python\"\u001b[0m\u001b[0;34m:\u001b[0m\u001b[0;34m\u001b[0m\u001b[0;34m\u001b[0m\u001b[0m\n",
            "\u001b[0;32m/usr/local/lib/python3.7/dist-packages/pandas/io/parsers.py\u001b[0m in \u001b[0;36m__init__\u001b[0;34m(self, src, **kwds)\u001b[0m\n\u001b[1;32m   2008\u001b[0m         \u001b[0mkwds\u001b[0m\u001b[0;34m[\u001b[0m\u001b[0;34m\"usecols\"\u001b[0m\u001b[0;34m]\u001b[0m \u001b[0;34m=\u001b[0m \u001b[0mself\u001b[0m\u001b[0;34m.\u001b[0m\u001b[0musecols\u001b[0m\u001b[0;34m\u001b[0m\u001b[0;34m\u001b[0m\u001b[0m\n\u001b[1;32m   2009\u001b[0m \u001b[0;34m\u001b[0m\u001b[0m\n\u001b[0;32m-> 2010\u001b[0;31m         \u001b[0mself\u001b[0m\u001b[0;34m.\u001b[0m\u001b[0m_reader\u001b[0m \u001b[0;34m=\u001b[0m \u001b[0mparsers\u001b[0m\u001b[0;34m.\u001b[0m\u001b[0mTextReader\u001b[0m\u001b[0;34m(\u001b[0m\u001b[0msrc\u001b[0m\u001b[0;34m,\u001b[0m \u001b[0;34m**\u001b[0m\u001b[0mkwds\u001b[0m\u001b[0;34m)\u001b[0m\u001b[0;34m\u001b[0m\u001b[0;34m\u001b[0m\u001b[0m\n\u001b[0m\u001b[1;32m   2011\u001b[0m         \u001b[0mself\u001b[0m\u001b[0;34m.\u001b[0m\u001b[0munnamed_cols\u001b[0m \u001b[0;34m=\u001b[0m \u001b[0mself\u001b[0m\u001b[0;34m.\u001b[0m\u001b[0m_reader\u001b[0m\u001b[0;34m.\u001b[0m\u001b[0munnamed_cols\u001b[0m\u001b[0;34m\u001b[0m\u001b[0;34m\u001b[0m\u001b[0m\n\u001b[1;32m   2012\u001b[0m \u001b[0;34m\u001b[0m\u001b[0m\n",
            "\u001b[0;32mpandas/_libs/parsers.pyx\u001b[0m in \u001b[0;36mpandas._libs.parsers.TextReader.__cinit__\u001b[0;34m()\u001b[0m\n",
            "\u001b[0;32mpandas/_libs/parsers.pyx\u001b[0m in \u001b[0;36mpandas._libs.parsers.TextReader._setup_parser_source\u001b[0;34m()\u001b[0m\n",
            "\u001b[0;31mFileNotFoundError\u001b[0m: [Errno 2] No such file or directory: 'SeaIce.txt'"
          ]
        }
      ]
    },
    {
      "cell_type": "code",
      "metadata": {
        "id": "jUZ0pgrdCYs5"
      },
      "source": [
        "ice.info()"
      ],
      "execution_count": null,
      "outputs": []
    },
    {
      "cell_type": "code",
      "metadata": {
        "id": "D7WUu3-dCYs5"
      },
      "source": [
        "# To compute the anomaly for a given interval of time, \n",
        "# we can compute the mean for that interval of time (using the period 1981 through 2010 for \n",
        "# the mean extend)\n",
        "\n",
        "ice.mean()   # Before data cleaning\n",
        "\n",
        "# Observation: a negative mean?!!"
      ],
      "execution_count": null,
      "outputs": []
    },
    {
      "cell_type": "code",
      "metadata": {
        "id": "awcM7lCACYs5"
      },
      "source": [
        "%matplotlib inline\n",
        "import seaborn as sns\n",
        "import matplotlib.pylab as plt\n",
        "plt.figure(1, figsize=(8, 6))\n",
        "sns.lmplot(\"year\", \"extent\", ice);"
      ],
      "execution_count": null,
      "outputs": []
    },
    {
      "cell_type": "code",
      "metadata": {
        "id": "xm2vl_Y4CYs5"
      },
      "source": [
        "np.unique(ice.data_type.values)   # there is a -9999 value!"
      ],
      "execution_count": null,
      "outputs": []
    },
    {
      "cell_type": "code",
      "metadata": {
        "id": "M8MHj6_HCYs5"
      },
      "source": [
        "# Let's see what type of data we have more than Goddard and NRTSI-G \n",
        "print(ice[(ice.data_type!='Goddard') & (ice.data_type!='NRTSI-G')])"
      ],
      "execution_count": null,
      "outputs": []
    },
    {
      "cell_type": "code",
      "metadata": {
        "id": "nIOC-yPMCYs5"
      },
      "source": [
        "# We can easily clean the data now:\n",
        "ice2 = ice[ice.data_type != '-9999']\n",
        "# And repeat the plot\n",
        "sns.lmplot(\"mo\", \"extent\", ice2);"
      ],
      "execution_count": null,
      "outputs": []
    },
    {
      "cell_type": "code",
      "metadata": {
        "id": "ynNF3sMxCYs5"
      },
      "source": [
        "print(ice.year.unique().shape)"
      ],
      "execution_count": null,
      "outputs": []
    },
    {
      "cell_type": "code",
      "metadata": {
        "id": "hyy8wKzeCYs6"
      },
      "source": [
        "ice2[1:20]"
      ],
      "execution_count": null,
      "outputs": []
    },
    {
      "cell_type": "code",
      "metadata": {
        "id": "dz6Q3_VhCYs6"
      },
      "source": [
        "ice2.mean()"
      ],
      "execution_count": null,
      "outputs": []
    },
    {
      "cell_type": "code",
      "metadata": {
        "id": "AvIamq4VCYs6"
      },
      "source": [
        "# Compute the mean for each month.\n",
        "grouped = ice2.groupby('mo')\n",
        "a = grouped.extent.mean()\n",
        "a"
      ],
      "execution_count": null,
      "outputs": []
    },
    {
      "cell_type": "code",
      "metadata": {
        "id": "sqfs31b7CYs6"
      },
      "source": [
        "import warnings\n",
        "warnings.filterwarnings('ignore')\n",
        "# Data normalization\n",
        "for j in range(12):\n",
        "    ice2.extent[ice2.mo==j+1] = (ice2.extent[ice2.mo==j+1] - \\\n",
        "                                 a[j+1])/a.mean()\n",
        "    \n",
        "sns.lmplot(\"mo\", \"extent\", ice2);"
      ],
      "execution_count": null,
      "outputs": []
    },
    {
      "cell_type": "code",
      "metadata": {
        "id": "U7PWoLEkCYs6"
      },
      "source": [
        "jan = ice2[ice2.mo==1]\n",
        "sns.lmplot(\"year\", \"extent\", jan);"
      ],
      "execution_count": null,
      "outputs": []
    },
    {
      "cell_type": "code",
      "metadata": {
        "id": "1XVk6sf9CYs7"
      },
      "source": [
        "import scipy.stats\n",
        "scipy.stats.pearsonr(jan.year.values, jan.extent.values)"
      ],
      "execution_count": null,
      "outputs": []
    },
    {
      "cell_type": "code",
      "metadata": {
        "id": "AA3MCJwiCYs7"
      },
      "source": [
        "aug = ice2[ice2.mo==8]\n",
        "sns.lmplot(\"year\", \"extent\", aug);"
      ],
      "execution_count": null,
      "outputs": []
    },
    {
      "cell_type": "code",
      "metadata": {
        "id": "iqGKzdkNCYs7"
      },
      "source": [
        "scipy.stats.pearsonr(aug.year.values, aug.extent.values)"
      ],
      "execution_count": null,
      "outputs": []
    },
    {
      "cell_type": "code",
      "metadata": {
        "id": "chL20AD4CYs7"
      },
      "source": [
        "# Confidence interval = 99%.\n",
        "jan[['year']] = jan[['year']].astype(float)\n",
        "sns.regplot(\"year\", \"extent\", jan, ci=99, color=\"slategray\")"
      ],
      "execution_count": null,
      "outputs": []
    },
    {
      "cell_type": "code",
      "metadata": {
        "id": "PyTOl5fUCYs7"
      },
      "source": [
        "from sklearn import metrics\n",
        "from sklearn.linear_model import LinearRegression\n",
        "\n",
        "X = jan[['year']]\n",
        "y = jan[['extent']]\n",
        "\n",
        "model = LinearRegression()\n",
        "model.fit(X, y)\n",
        "\n",
        "y_hat = model.predict(X)\n",
        "\n",
        "plt.figure(figsize=(10,6))\n",
        "plt.plot(X, y, 'o', alpha=0.5)\n",
        "plt.plot(X, y_hat, 'r', alpha=0.5)\n",
        "\n",
        "print(\"mean squared error:\", metrics.mean_squared_error(y_hat, y))\n",
        "print(\"R^2:\", metrics.r2_score(model.predict(X), y))"
      ],
      "execution_count": null,
      "outputs": []
    },
    {
      "cell_type": "markdown",
      "metadata": {
        "id": "kDmPrUFqCYs7"
      },
      "source": [
        "## Exemple: Classificació Lineal \n",
        "\n",
        "Donat un vector de nombres reals $\\mathbf{x}$, la resposta d'un classificador lineal es calcula com:\n",
        "\n",
        "$$ y = f \\left( \\sum_j \\omega_j x_j \\right)  $$\n",
        "\n",
        "on $\\mathbf{\\omega}$ és un vector de valors reals i $f$ és una funció que converteix un escalar en l'etiqueta corresponent (per exemple, el signe: si el resultat és positiu, classe +1, sinó -1). \n",
        "\n",
        "Aquest problema es pot resoldre fent SGD sobre la *hinge loss function*: Si hem definit les possibles sortides de la funció com $ y \\in \\pm 1$ i el classificador ens retorna $\\hat{y} = \\sum_j \\omega_j x_j$, la *hinge loss* de la predicció $\\hat{y}$ es defineix com\n",
        "\n",
        "$$  L(\\hat{y}) = max(0,1 - y \\hat{y})  $$\n",
        "\n",
        "Observació: el valor $\\hat{y}$ és el valor de sortida del classificador, no l'etiqueta.\n",
        "\n",
        "Aquesta funció de cost te una propietat interessant: maximitza el *marge* entre els dos conjunts de dades. El *marge* d'un conjunt de punts respecet a una recta (o hiperplà) es defineix com el valor mínim de les distàncies de cada un dels punts a la recta en la direcció perpendicular a la recta. Aquesta propietat determina una única recta entre les moltes que separen les dues classes. "
      ]
    },
    {
      "cell_type": "code",
      "metadata": {
        "id": "Vn7hUrELCYs8"
      },
      "source": [
        "import numpy as np\n",
        "import matplotlib.pyplot as plt\n",
        "from sklearn.linear_model import SGDClassifier\n",
        "from sklearn.datasets.samples_generator import make_blobs\n",
        "\n",
        "X, Y = make_blobs(n_samples=50, centers=2, random_state=0, cluster_std=0.60)\n",
        "\n",
        "clf = SGDClassifier(loss=\"hinge\", alpha=0.01, max_iter=200, \\\n",
        "                    fit_intercept=True)\n",
        "clf.fit(X, Y)\n",
        "\n",
        "xx = np.linspace(-1, 5, 10)\n",
        "yy = np.linspace(-1, 5, 10)\n",
        "\n",
        "X1, X2 = np.meshgrid(xx, yy)\n",
        "Z = np.empty(X1.shape)\n",
        "for (i, j), val in np.ndenumerate(X1):\n",
        "    x1 = val\n",
        "    x2 = X2[i, j]\n",
        "    p = clf.decision_function([[x1, x2]])\n",
        "    Z[i, j] = p[0]\n",
        "levels = [-1.0, 0.0, 1.0]\n",
        "linestyles = ['dashed', 'solid', 'dashed']\n",
        "colors = 'k'\n",
        "plt.figure(figsize=(10,6))\n",
        "\n",
        "plt.contour(X1, X2, Z, levels, colors=colors, linestyles=linestyles)\n",
        "plt.scatter(X[:, 0], X[:, 1], c=Y, cmap=plt.cm.Paired)\n",
        "\n",
        "plt.axis('tight')\n",
        "plt.show()"
      ],
      "execution_count": null,
      "outputs": []
    },
    {
      "cell_type": "code",
      "metadata": {
        "collapsed": true,
        "id": "Yj3dlEZ5CYs8"
      },
      "source": [
        ""
      ],
      "execution_count": null,
      "outputs": []
    }
  ]
}